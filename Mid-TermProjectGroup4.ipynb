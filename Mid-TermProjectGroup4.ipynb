{
 "cells": [
  {
   "cell_type": "code",
   "execution_count": 15,
   "metadata": {},
   "outputs": [
    {
     "name": "stderr",
     "output_type": "stream",
     "text": [
      "[nltk_data] Downloading package wordnet to\n",
      "[nltk_data]     C:\\Users\\andre\\AppData\\Roaming\\nltk_data...\n",
      "[nltk_data]   Package wordnet is already up-to-date!\n"
     ]
    },
    {
     "data": {
      "text/plain": [
       "True"
      ]
     },
     "execution_count": 15,
     "metadata": {},
     "output_type": "execute_result"
    }
   ],
   "source": [
    "import re\n",
    "import nltk\n",
    "import numpy as np\n",
    "import pandas as pd\n",
    "from nltk.corpus import stopwords\n",
    "from nltk.stem import WordNetLemmatizer\n",
    "from nltk.stem.porter import *\n",
    "from sklearn import decomposition\n",
    "from sklearn.datasets import fetch_20newsgroups\n",
    "import matplotlib.pyplot as plt\n",
    "from sklearn.cluster import KMeans\n",
    "from wordcloud import WordCloud\n",
    "from sklearn.decomposition import PCA\n",
    "from sklearn.decomposition import LatentDirichletAllocation\n",
    "nltk.download('wordnet')"
   ]
  },
  {
   "cell_type": "code",
   "execution_count": 16,
   "metadata": {},
   "outputs": [
    {
     "data": {
      "text/html": [
       "<div>\n",
       "<style scoped>\n",
       "    .dataframe tbody tr th:only-of-type {\n",
       "        vertical-align: middle;\n",
       "    }\n",
       "\n",
       "    .dataframe tbody tr th {\n",
       "        vertical-align: top;\n",
       "    }\n",
       "\n",
       "    .dataframe thead th {\n",
       "        text-align: right;\n",
       "    }\n",
       "</style>\n",
       "<table border=\"1\" class=\"dataframe\">\n",
       "  <thead>\n",
       "    <tr style=\"text-align: right;\">\n",
       "      <th></th>\n",
       "      <th>text</th>\n",
       "      <th>topic</th>\n",
       "    </tr>\n",
       "  </thead>\n",
       "  <tbody>\n",
       "    <tr>\n",
       "      <th>0</th>\n",
       "      <td>Hi,\\n\\nI've noticed that if you only save a mo...</td>\n",
       "      <td>1</td>\n",
       "    </tr>\n",
       "    <tr>\n",
       "      <th>1</th>\n",
       "      <td>\\n\\nSeems to be, barring evidence to the contr...</td>\n",
       "      <td>3</td>\n",
       "    </tr>\n",
       "    <tr>\n",
       "      <th>2</th>\n",
       "      <td>\\n &gt;In article &lt;1993Apr19.020359.26996@sq.sq.c...</td>\n",
       "      <td>2</td>\n",
       "    </tr>\n",
       "    <tr>\n",
       "      <th>3</th>\n",
       "      <td>I have a request for those who would like to s...</td>\n",
       "      <td>0</td>\n",
       "    </tr>\n",
       "    <tr>\n",
       "      <th>4</th>\n",
       "      <td>AW&amp;ST  had a brief blurb on a Manned Lunar Exp...</td>\n",
       "      <td>2</td>\n",
       "    </tr>\n",
       "    <tr>\n",
       "      <th>...</th>\n",
       "      <td>...</td>\n",
       "      <td>...</td>\n",
       "    </tr>\n",
       "    <tr>\n",
       "      <th>2029</th>\n",
       "      <td>\\n  Did the Russian spacecraft(s) on the ill-f...</td>\n",
       "      <td>2</td>\n",
       "    </tr>\n",
       "    <tr>\n",
       "      <th>2030</th>\n",
       "      <td>\\n\\nOh gee, a billion dollars!  That'd be just...</td>\n",
       "      <td>2</td>\n",
       "    </tr>\n",
       "    <tr>\n",
       "      <th>2031</th>\n",
       "      <td>I am looking for software to run on my brand n...</td>\n",
       "      <td>1</td>\n",
       "    </tr>\n",
       "    <tr>\n",
       "      <th>2032</th>\n",
       "      <td>\\n\\nThis is becoming a tiresome statement.  Co...</td>\n",
       "      <td>0</td>\n",
       "    </tr>\n",
       "    <tr>\n",
       "      <th>2033</th>\n",
       "      <td></td>\n",
       "      <td>1</td>\n",
       "    </tr>\n",
       "  </tbody>\n",
       "</table>\n",
       "<p>2034 rows × 2 columns</p>\n",
       "</div>"
      ],
      "text/plain": [
       "                                                   text  topic\n",
       "0     Hi,\\n\\nI've noticed that if you only save a mo...      1\n",
       "1     \\n\\nSeems to be, barring evidence to the contr...      3\n",
       "2     \\n >In article <1993Apr19.020359.26996@sq.sq.c...      2\n",
       "3     I have a request for those who would like to s...      0\n",
       "4     AW&ST  had a brief blurb on a Manned Lunar Exp...      2\n",
       "...                                                 ...    ...\n",
       "2029  \\n  Did the Russian spacecraft(s) on the ill-f...      2\n",
       "2030  \\n\\nOh gee, a billion dollars!  That'd be just...      2\n",
       "2031  I am looking for software to run on my brand n...      1\n",
       "2032  \\n\\nThis is becoming a tiresome statement.  Co...      0\n",
       "2033                                                         1\n",
       "\n",
       "[2034 rows x 2 columns]"
      ]
     },
     "execution_count": 16,
     "metadata": {},
     "output_type": "execute_result"
    }
   ],
   "source": [
    "categories = ['alt.atheism', 'talk.religion.misc', 'comp.graphics', 'sci.space']\n",
    "remove = ('headers', 'footers', 'quotes')\n",
    "docs = fetch_20newsgroups(subset='train', categories=categories, remove=remove)\n",
    "docs_df = pd.DataFrame(docs.data, columns=[\"text\"])\n",
    "docs_df['topic'] = pd.Series(data=docs.target, index=docs_df.index)\n",
    "# docs_df\n",
    "docs_df"
   ]
  },
  {
   "cell_type": "code",
   "execution_count": 17,
   "metadata": {
    "scrolled": true
   },
   "outputs": [
    {
     "data": {
      "text/html": [
       "<div>\n",
       "<style scoped>\n",
       "    .dataframe tbody tr th:only-of-type {\n",
       "        vertical-align: middle;\n",
       "    }\n",
       "\n",
       "    .dataframe tbody tr th {\n",
       "        vertical-align: top;\n",
       "    }\n",
       "\n",
       "    .dataframe thead th {\n",
       "        text-align: right;\n",
       "    }\n",
       "</style>\n",
       "<table border=\"1\" class=\"dataframe\">\n",
       "  <thead>\n",
       "    <tr style=\"text-align: right;\">\n",
       "      <th></th>\n",
       "      <th>text</th>\n",
       "      <th>topic</th>\n",
       "    </tr>\n",
       "  </thead>\n",
       "  <tbody>\n",
       "    <tr>\n",
       "      <th>0</th>\n",
       "      <td>hi ive noticed save model mapping planes posit...</td>\n",
       "      <td>1</td>\n",
       "    </tr>\n",
       "    <tr>\n",
       "      <th>1</th>\n",
       "      <td>seems barring evidence contrary koresh simply ...</td>\n",
       "      <td>3</td>\n",
       "    </tr>\n",
       "    <tr>\n",
       "      <th>2</th>\n",
       "      <td>article apr sqsqcom msbsqsqcom mark brader mb ...</td>\n",
       "      <td>2</td>\n",
       "    </tr>\n",
       "    <tr>\n",
       "      <th>3</th>\n",
       "      <td>request like see charley wingate respond charl...</td>\n",
       "      <td>0</td>\n",
       "    </tr>\n",
       "    <tr>\n",
       "      <th>4</th>\n",
       "      <td>awst brief blurb manned lunar exploration conf...</td>\n",
       "      <td>2</td>\n",
       "    </tr>\n",
       "    <tr>\n",
       "      <th>...</th>\n",
       "      <td>...</td>\n",
       "      <td>...</td>\n",
       "    </tr>\n",
       "    <tr>\n",
       "      <th>2029</th>\n",
       "      <td>russian spacecrafts illfated phobos mission ye...</td>\n",
       "      <td>2</td>\n",
       "    </tr>\n",
       "    <tr>\n",
       "      <th>2030</th>\n",
       "      <td>oh gee billion dollars thatd enough cover cost...</td>\n",
       "      <td>2</td>\n",
       "    </tr>\n",
       "    <tr>\n",
       "      <th>2031</th>\n",
       "      <td>looking software run brand new targa anyone kn...</td>\n",
       "      <td>1</td>\n",
       "    </tr>\n",
       "    <tr>\n",
       "      <th>2032</th>\n",
       "      <td>becoming tiresome statement coming definition ...</td>\n",
       "      <td>0</td>\n",
       "    </tr>\n",
       "    <tr>\n",
       "      <th>2033</th>\n",
       "      <td></td>\n",
       "      <td>1</td>\n",
       "    </tr>\n",
       "  </tbody>\n",
       "</table>\n",
       "<p>2034 rows × 2 columns</p>\n",
       "</div>"
      ],
      "text/plain": [
       "                                                   text  topic\n",
       "0     hi ive noticed save model mapping planes posit...      1\n",
       "1     seems barring evidence contrary koresh simply ...      3\n",
       "2     article apr sqsqcom msbsqsqcom mark brader mb ...      2\n",
       "3     request like see charley wingate respond charl...      0\n",
       "4     awst brief blurb manned lunar exploration conf...      2\n",
       "...                                                 ...    ...\n",
       "2029  russian spacecrafts illfated phobos mission ye...      2\n",
       "2030  oh gee billion dollars thatd enough cover cost...      2\n",
       "2031  looking software run brand new targa anyone kn...      1\n",
       "2032  becoming tiresome statement coming definition ...      0\n",
       "2033                                                         1\n",
       "\n",
       "[2034 rows x 2 columns]"
      ]
     },
     "execution_count": 17,
     "metadata": {},
     "output_type": "execute_result"
    }
   ],
   "source": [
    "stop_words = stopwords.words('english')\n",
    "sw1 = ['dont','im','also','it','thank','thanks','could','get','would','even','know','say','much','well']\n",
    "stop_words.extend(sw1)\n",
    "lemmatizer = WordNetLemmatizer()\n",
    "stemmer = PorterStemmer()\n",
    "\n",
    "PUNCTUATION = '[^\\w\\s]' #^=not, \\w=alphanumeric character, \\s=space\n",
    "docs_df['text'] = docs_df['text'].str.lower()\n",
    "docs_df['text'] = docs_df['text'].apply(lambda x: ' '.join([item for item in x.split() if item.strip() not in stop_words]))\n",
    "# docs_df['text'] = docs_df['text'].apply(lambda x: lemmatizer.lemmatize(x))\n",
    "docs_df['text'] = docs_df['text'].apply(lambda x: stemmer.stem(x))\n",
    "docs_df['text'] = docs_df['text'].apply(lambda x: re.sub(PUNCTUATION, '', x))\n",
    "docs_df['text'] = docs_df['text'].apply(lambda x: re.sub('\\n', ' ', x))\n",
    "docs_df['text'] = docs_df['text'].apply(lambda x: re.sub('[\\d-]', ' ', x))\n",
    "docs_df['text'] = docs_df['text'].apply(lambda x: ' '.join([item for item in x.split() if item.strip() not in stop_words]))\n",
    "docs_df"
   ]
  },
  {
   "cell_type": "code",
   "execution_count": 39,
   "metadata": {},
   "outputs": [
    {
     "data": {
      "image/png": "[encoded data removed]",
      "text/plain": [
       "<Figure size 432x288 with 1 Axes>"
      ]
     },
     "metadata": {
      "needs_background": "light"
     },
     "output_type": "display_data"
    },
    {
     "data": {
      "image/png": "[encoded data removed]",
      "text/plain": [
       "<Figure size 432x288 with 1 Axes>"
      ]
     },
     "metadata": {
      "needs_background": "light"
     },
     "output_type": "display_data"
    },
    {
     "data": {
      "image/png": "[encoded data removed]",
      "text/plain": [
       "<Figure size 432x288 with 1 Axes>"
      ]
     },
     "metadata": {
      "needs_background": "light"
     },
     "output_type": "display_data"
    },
    {
     "data": {
      "image/png": "[encoded data removed]",
      "text/plain": [
       "<Figure size 432x288 with 1 Axes>"
      ]
     },
     "metadata": {
      "needs_background": "light"
     },
     "output_type": "display_data"
    }
   ],
   "source": [
    "for x in range(4):\n",
    "    commondf = docs_df.loc[(docs_df['topic'] == x)]\n",
    "    commondf\n",
    "    common = ' '.join(commondf['text'])\n",
    "    common = pd.Series(common.split()).value_counts()[:10]\n",
    "    commondft = pd.DataFrame(common)\n",
    "    commondft.rename( columns={0 :'count'}, inplace=True )\n",
    "    plt.plot(commondft['count'], color='blue', marker='o')\n",
    "    plt.show()\n",
    "\n"
   ]
  },
  {
   "cell_type": "code",
   "execution_count": 47,
   "metadata": {
    "scrolled": false
   },
   "outputs": [
    {
     "data": {
      "image/png": "[encoded data removed]",
      "text/plain": [
       "<Figure size 864x576 with 1 Axes>"
      ]
     },
     "metadata": {
      "needs_background": "light"
     },
     "output_type": "display_data"
    }
   ],
   "source": [
    "for x in range(4):\n",
    "    commondf = docs_df.loc[(docs_df['topic'] == x)]\n",
    "    bigrams = ' '.join(commondf['text'])\n",
    "    bigrams = pd.Series(bigrams.split()).value_counts() \n",
    "    bigrams = (pd.Series(nltk.ngrams(words, 2)).value_counts())[:10]\n",
    "    bigrams.plot.barh(width=.9, figsize=(12, 8))\n"
   ]
  },
  {
   "cell_type": "code",
   "execution_count": 19,
   "metadata": {
    "scrolled": false
   },
   "outputs": [
    {
     "data": {
      "text/plain": [
       "<AxesSubplot:>"
      ]
     },
     "execution_count": 19,
     "metadata": {},
     "output_type": "execute_result"
    },
    {
     "data": {
      "image/png": "[encoded data removed]",
      "text/plain": [
       "<Figure size 864x576 with 1 Axes>"
      ]
     },
     "metadata": {
      "needs_background": "light"
     },
     "output_type": "display_data"
    }
   ],
   "source": [
    "trigrams = (pd.Series(nltk.ngrams(words, 3)).value_counts())[:10]\n",
    "trigrams.plot.barh(width=.9, figsize=(12, 8))"
   ]
  },
  {
   "cell_type": "code",
   "execution_count": 20,
   "metadata": {},
   "outputs": [
    {
     "name": "stdout",
     "output_type": "stream",
     "text": [
      "hi\n"
     ]
    }
   ],
   "source": [
    "from sklearn.decomposition import LatentDirichletAllocation\n",
    "from sklearn.feature_extraction.text import TfidfVectorizer\n",
    "from sklearn.decomposition import TruncatedSVD\n",
    "\n",
    "v = TfidfVectorizer()\n",
    "x = v.fit_transform(docs_df['text'])\n",
    "df_tfidf = pd.DataFrame(x.todense())\n",
    "\n",
    "lda_model=LatentDirichletAllocation(n_components=4,learning_method='online',random_state=42,max_iter=100) \n",
    "lda_top=lda_model.fit_transform(x.todense())\n",
    "\n",
    "svd_model = TruncatedSVD(n_components=4,algorithm='randomized',n_iter=10)\n",
    "svd_top = svd_model.fit_transform(x.todense())\n",
    "\n",
    "print('hi')"
   ]
  },
  {
   "cell_type": "code",
   "execution_count": 21,
   "metadata": {},
   "outputs": [
    {
     "name": "stdout",
     "output_type": "stream",
     "text": [
      "Topic 0:  critu den compass surreal sriniva moments op_cols int xp yp \n",
      "\n",
      "Topic 1:  one think like people god space anyone good please time \n",
      "\n",
      "Topic 2:  deletion ditto compuservecom methodology sherzer photosynthetic yeager de varieties van \n",
      "\n",
      "Topic 3:  cockroaches lunacy tiger categorizing godless psa mercies anger tender mauled \n",
      "\n"
     ]
    }
   ],
   "source": [
    "vocab = v.get_feature_names()\n",
    "\n",
    "for i, comp in enumerate(lda_model.components_):\n",
    "    vocab_comp = zip(vocab, comp)\n",
    "    sorted_words = sorted(vocab_comp, key= lambda x:x[1], reverse=True)[:10]\n",
    "    print(\"Topic \"+str(i)+\": \", end = \" \")\n",
    "    for t in sorted_words:\n",
    "        print(t[0],end=\" \")\n",
    "    print(\"\\n\")"
   ]
  },
  {
   "cell_type": "code",
   "execution_count": 22,
   "metadata": {},
   "outputs": [
    {
     "name": "stdout",
     "output_type": "stream",
     "text": [
      "Topic 0:  one god people think like space good time us jesus \n",
      "\n",
      "Topic 1:  space program files image graphics file data email software ftp \n",
      "\n",
      "Topic 2:  space nasa launch lunar shuttle moon orbit station us satellite \n",
      "\n",
      "Topic 3:  beauchaine bronx manhattan bobbeviceicotekcom sank queens blew bob sea stay \n",
      "\n"
     ]
    }
   ],
   "source": [
    "for i, comp in enumerate(svd_model.components_):\n",
    "    vocab_comp = zip(vocab, comp)\n",
    "    sorted_words = sorted(vocab_comp, key= lambda x:x[1], reverse=True)[:10]\n",
    "    print(\"Topic \"+str(i)+\": \", end = \" \")\n",
    "    for t in sorted_words:\n",
    "        print(t[0],end=\" \")\n",
    "    print(\"\\n\")"
   ]
  },
  {
   "cell_type": "code",
   "execution_count": null,
   "metadata": {},
   "outputs": [],
   "source": []
  }
 ],
 "metadata": {
  "kernelspec": {
   "display_name": "Python 3",
   "language": "python",
   "name": "python3"
  },
  "language_info": {
   "codemirror_mode": {
    "name": "ipython",
    "version": 3
   },
   "file_extension": ".py",
   "mimetype": "text/x-python",
   "name": "python",
   "nbconvert_exporter": "python",
   "pygments_lexer": "ipython3",
   "version": "3.8.5"
  }
 },
 "nbformat": 4,
 "nbformat_minor": 4
}
